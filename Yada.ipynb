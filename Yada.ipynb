{
  "nbformat": 4,
  "nbformat_minor": 0,
  "metadata": {
    "kernelspec": {
      "display_name": "Python 3",
      "language": "python",
      "name": "python3"
    },
    "language_info": {
      "codemirror_mode": {
        "name": "ipython",
        "version": 3
      },
      "file_extension": ".py",
      "mimetype": "text/x-python",
      "name": "python",
      "nbconvert_exporter": "python",
      "pygments_lexer": "ipython3",
      "version": "3.7.6"
    },
    "colab": {
      "name": "Yada.ipynb",
      "provenance": [],
      "collapsed_sections": []
    }
  },
  "cells": [
    {
      "cell_type": "markdown",
      "metadata": {
        "id": "_Fh3BwMNdzYP"
      },
      "source": [
        "# Yada Deconvolution\n",
        "\n",
        "---\n",
        "\n",
        "\n",
        "\n",
        "- Run the following cells for deconvolution using Yada.\n",
        "\n",
        "## 1 - Import prerequisites"
      ]
    },
    {
      "cell_type": "code",
      "metadata": {
        "id": "GE9Tg1H1dzYS",
        "colab": {
          "base_uri": "https://localhost:8080/"
        },
        "outputId": "7ffef97c-c642-4c43-8b3e-2e7547c7bfd2"
      },
      "source": [
        "from IPython.display import FileLink, FileLinks\n",
        "import pandas as pd\n",
        "\n",
        "\n",
        "pd.set_option('display.max_columns', 500)\n",
        "pd.set_option('display.width', 10000)\n",
        "\n",
        "!pip install - q tslearn\n",
        "!rm -r Yada\n",
        "!git clone https://github.com/zurkin1/Yada.git\n",
        "!mv Yada/* ."
      ],
      "execution_count": 3,
      "outputs": [
        {
          "output_type": "stream",
          "name": "stdout",
          "text": [
            "\u001b[?25l\r\u001b[K     |▍                               | 10 kB 29.7 MB/s eta 0:00:01\r\u001b[K     |▉                               | 20 kB 34.9 MB/s eta 0:00:01\r\u001b[K     |█▎                              | 30 kB 39.9 MB/s eta 0:00:01\r\u001b[K     |█▋                              | 40 kB 29.0 MB/s eta 0:00:01\r\u001b[K     |██                              | 51 kB 17.4 MB/s eta 0:00:01\r\u001b[K     |██▌                             | 61 kB 19.5 MB/s eta 0:00:01\r\u001b[K     |███                             | 71 kB 13.4 MB/s eta 0:00:01\r\u001b[K     |███▎                            | 81 kB 14.8 MB/s eta 0:00:01\r\u001b[K     |███▊                            | 92 kB 13.3 MB/s eta 0:00:01\r\u001b[K     |████▏                           | 102 kB 14.2 MB/s eta 0:00:01\r\u001b[K     |████▌                           | 112 kB 14.2 MB/s eta 0:00:01\r\u001b[K     |█████                           | 122 kB 14.2 MB/s eta 0:00:01\r\u001b[K     |█████▍                          | 133 kB 14.2 MB/s eta 0:00:01\r\u001b[K     |█████▉                          | 143 kB 14.2 MB/s eta 0:00:01\r\u001b[K     |██████▏                         | 153 kB 14.2 MB/s eta 0:00:01\r\u001b[K     |██████▋                         | 163 kB 14.2 MB/s eta 0:00:01\r\u001b[K     |███████                         | 174 kB 14.2 MB/s eta 0:00:01\r\u001b[K     |███████▍                        | 184 kB 14.2 MB/s eta 0:00:01\r\u001b[K     |███████▉                        | 194 kB 14.2 MB/s eta 0:00:01\r\u001b[K     |████████▎                       | 204 kB 14.2 MB/s eta 0:00:01\r\u001b[K     |████████▊                       | 215 kB 14.2 MB/s eta 0:00:01\r\u001b[K     |█████████                       | 225 kB 14.2 MB/s eta 0:00:01\r\u001b[K     |█████████▌                      | 235 kB 14.2 MB/s eta 0:00:01\r\u001b[K     |██████████                      | 245 kB 14.2 MB/s eta 0:00:01\r\u001b[K     |██████████▎                     | 256 kB 14.2 MB/s eta 0:00:01\r\u001b[K     |██████████▊                     | 266 kB 14.2 MB/s eta 0:00:01\r\u001b[K     |███████████▏                    | 276 kB 14.2 MB/s eta 0:00:01\r\u001b[K     |███████████▋                    | 286 kB 14.2 MB/s eta 0:00:01\r\u001b[K     |████████████                    | 296 kB 14.2 MB/s eta 0:00:01\r\u001b[K     |████████████▍                   | 307 kB 14.2 MB/s eta 0:00:01\r\u001b[K     |████████████▉                   | 317 kB 14.2 MB/s eta 0:00:01\r\u001b[K     |█████████████▏                  | 327 kB 14.2 MB/s eta 0:00:01\r\u001b[K     |█████████████▋                  | 337 kB 14.2 MB/s eta 0:00:01\r\u001b[K     |██████████████                  | 348 kB 14.2 MB/s eta 0:00:01\r\u001b[K     |██████████████▌                 | 358 kB 14.2 MB/s eta 0:00:01\r\u001b[K     |██████████████▉                 | 368 kB 14.2 MB/s eta 0:00:01\r\u001b[K     |███████████████▎                | 378 kB 14.2 MB/s eta 0:00:01\r\u001b[K     |███████████████▊                | 389 kB 14.2 MB/s eta 0:00:01\r\u001b[K     |████████████████▏               | 399 kB 14.2 MB/s eta 0:00:01\r\u001b[K     |████████████████▌               | 409 kB 14.2 MB/s eta 0:00:01\r\u001b[K     |█████████████████               | 419 kB 14.2 MB/s eta 0:00:01\r\u001b[K     |█████████████████▍              | 430 kB 14.2 MB/s eta 0:00:01\r\u001b[K     |█████████████████▊              | 440 kB 14.2 MB/s eta 0:00:01\r\u001b[K     |██████████████████▏             | 450 kB 14.2 MB/s eta 0:00:01\r\u001b[K     |██████████████████▋             | 460 kB 14.2 MB/s eta 0:00:01\r\u001b[K     |███████████████████             | 471 kB 14.2 MB/s eta 0:00:01\r\u001b[K     |███████████████████▍            | 481 kB 14.2 MB/s eta 0:00:01\r\u001b[K     |███████████████████▉            | 491 kB 14.2 MB/s eta 0:00:01\r\u001b[K     |████████████████████▎           | 501 kB 14.2 MB/s eta 0:00:01\r\u001b[K     |████████████████████▋           | 512 kB 14.2 MB/s eta 0:00:01\r\u001b[K     |█████████████████████           | 522 kB 14.2 MB/s eta 0:00:01\r\u001b[K     |█████████████████████▌          | 532 kB 14.2 MB/s eta 0:00:01\r\u001b[K     |██████████████████████          | 542 kB 14.2 MB/s eta 0:00:01\r\u001b[K     |██████████████████████▎         | 552 kB 14.2 MB/s eta 0:00:01\r\u001b[K     |██████████████████████▊         | 563 kB 14.2 MB/s eta 0:00:01\r\u001b[K     |███████████████████████▏        | 573 kB 14.2 MB/s eta 0:00:01\r\u001b[K     |███████████████████████▌        | 583 kB 14.2 MB/s eta 0:00:01\r\u001b[K     |████████████████████████        | 593 kB 14.2 MB/s eta 0:00:01\r\u001b[K     |████████████████████████▍       | 604 kB 14.2 MB/s eta 0:00:01\r\u001b[K     |████████████████████████▉       | 614 kB 14.2 MB/s eta 0:00:01\r\u001b[K     |█████████████████████████▏      | 624 kB 14.2 MB/s eta 0:00:01\r\u001b[K     |█████████████████████████▋      | 634 kB 14.2 MB/s eta 0:00:01\r\u001b[K     |██████████████████████████      | 645 kB 14.2 MB/s eta 0:00:01\r\u001b[K     |██████████████████████████▍     | 655 kB 14.2 MB/s eta 0:00:01\r\u001b[K     |██████████████████████████▉     | 665 kB 14.2 MB/s eta 0:00:01\r\u001b[K     |███████████████████████████▎    | 675 kB 14.2 MB/s eta 0:00:01\r\u001b[K     |███████████████████████████▊    | 686 kB 14.2 MB/s eta 0:00:01\r\u001b[K     |████████████████████████████    | 696 kB 14.2 MB/s eta 0:00:01\r\u001b[K     |████████████████████████████▌   | 706 kB 14.2 MB/s eta 0:00:01\r\u001b[K     |█████████████████████████████   | 716 kB 14.2 MB/s eta 0:00:01\r\u001b[K     |█████████████████████████████▍  | 727 kB 14.2 MB/s eta 0:00:01\r\u001b[K     |█████████████████████████████▊  | 737 kB 14.2 MB/s eta 0:00:01\r\u001b[K     |██████████████████████████████▏ | 747 kB 14.2 MB/s eta 0:00:01\r\u001b[K     |██████████████████████████████▋ | 757 kB 14.2 MB/s eta 0:00:01\r\u001b[K     |███████████████████████████████ | 768 kB 14.2 MB/s eta 0:00:01\r\u001b[K     |███████████████████████████████▍| 778 kB 14.2 MB/s eta 0:00:01\r\u001b[K     |███████████████████████████████▉| 788 kB 14.2 MB/s eta 0:00:01\r\u001b[K     |████████████████████████████████| 793 kB 14.2 MB/s \n",
            "\u001b[?25hrm: cannot remove 'Yada': No such file or directory\n",
            "Cloning into 'Yada'...\n",
            "remote: Enumerating objects: 336, done.\u001b[K\n",
            "remote: Counting objects: 100% (177/177), done.\u001b[K\n",
            "remote: Compressing objects: 100% (150/150), done.\u001b[K\n",
            "remote: Total 336 (delta 95), reused 76 (delta 27), pack-reused 159\u001b[K\n",
            "Receiving objects: 100% (336/336), 60.78 MiB | 12.22 MiB/s, done.\n",
            "Resolving deltas: 100% (128/128), done.\n"
          ]
        }
      ]
    },
    {
      "cell_type": "markdown",
      "metadata": {
        "id": "kMFVzieydzYa"
      },
      "source": [
        "## 2 - Configure Input Files.\n",
        "\n",
        "Example input files are in the ./data/ folder.\n"
      ]
    },
    {
      "cell_type": "code",
      "metadata": {
        "id": "FQvkD2ajdzYi"
      },
      "source": [
        "from yada import *\n",
        "\n",
        "#This is the mixture file in the format: columns: mix1, mix2, ..., rows: gene names.\n",
        "mix = 'data/Abbas/mix.csv'\n",
        "\n",
        "#Reference matrix name. Should be normalized as the mix data.\n",
        "pure = 'data/Abbas/pure.csv'\n",
        "\n",
        "#True cell type proportions file.\n",
        "labels = 'data/Abbas/labels.csv'"
      ],
      "execution_count": null,
      "outputs": []
    },
    {
      "cell_type": "markdown",
      "metadata": {
        "id": "iPrT3lvIdzYm"
      },
      "source": [
        "## 3 - Run deconvolution."
      ]
    },
    {
      "cell_type": "code",
      "metadata": {
        "id": "rIQpSv0nFKs1"
      },
      "source": [
        "#Select deconvolution method. Available methods: dtw_deconv (recommended for Microarray), cibersort, dsection, lasso, nnls_deconv_constrained, xCell (recommended for RNASeq).\n",
        "method = dtw_deconv\n",
        "result = run_deconv(mix, pure, method)\n",
        "result\n",
        "\n",
        "#Download Result.\n",
        "#FileLink('data/results.csv')\n",
        "#from google.colab import files\n",
        "#files.download('data/results.csv') "
      ],
      "execution_count": null,
      "outputs": []
    },
    {
      "cell_type": "markdown",
      "metadata": {
        "id": "fc_i1jdfdZf7"
      },
      "source": [
        "## 4 - Evaluate Results.\n",
        "\n",
        "In case true proportions are available."
      ]
    },
    {
      "cell_type": "code",
      "metadata": {
        "id": "6VjqKJrBMtBB"
      },
      "source": [
        "calc_corr(labels, result)"
      ],
      "execution_count": null,
      "outputs": []
    }
  ]
}