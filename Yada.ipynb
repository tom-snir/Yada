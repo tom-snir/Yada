{
  "nbformat": 4,
  "nbformat_minor": 0,
  "metadata": {
    "kernelspec": {
      "display_name": "Python 3",
      "language": "python",
      "name": "python3"
    },
    "language_info": {
      "codemirror_mode": {
        "name": "ipython",
        "version": 3
      },
      "file_extension": ".py",
      "mimetype": "text/x-python",
      "name": "python",
      "nbconvert_exporter": "python",
      "pygments_lexer": "ipython3",
      "version": "3.7.6"
    },
    "colab": {
      "name": "Yada.ipynb",
      "provenance": [],
      "collapsed_sections": []
    }
  },
  "cells": [
    {
      "cell_type": "markdown",
      "metadata": {
        "id": "_Fh3BwMNdzYP"
      },
      "source": [
        "# Yada Deconvolution\n",
        "\n",
        "---\n",
        "\n",
        "\n",
        "\n",
        "- Run the following cells for deconvolution using Yada.\n",
        "- Example files are provided in data folder.\n",
        "- In case that a special normalizations or scale is required edit the file yada.py.\n",
        "\n",
        "## Import prerequisites"
      ]
    },
    {
      "cell_type": "code",
      "metadata": {
        "id": "GE9Tg1H1dzYS",
        "colab": {
          "base_uri": "https://localhost:8080/"
        },
        "outputId": "3566abfb-5129-4c84-e68d-a9582672727d"
      },
      "source": [
        "from IPython.display import FileLink, FileLinks\n",
        "import pandas as pd\n",
        "\n",
        "\n",
        "pd.set_option('display.max_columns', 500)\n",
        "pd.set_option('display.width', 10000)\n",
        "\n",
        "!pip install tslearn\n",
        "!rm -r Yada\n",
        "!git clone https://github.com/zurkin1/Yada.git\n",
        "!mv Yada/* ."
      ],
      "execution_count": 1,
      "outputs": [
        {
          "output_type": "stream",
          "text": [
            "Collecting tslearn\n",
            "\u001b[?25l  Downloading https://files.pythonhosted.org/packages/a7/67/aa3149fdfef2582d881ce4a5117c9e6a465d5082dd57866904ca508a157c/tslearn-0.4.1-cp36-cp36m-manylinux2010_x86_64.whl (770kB)\n",
            "\u001b[K     |████████████████████████████████| 778kB 5.3MB/s \n",
            "\u001b[?25hRequirement already satisfied: numpy in /usr/local/lib/python3.6/dist-packages (from tslearn) (1.19.4)\n",
            "Requirement already satisfied: scipy in /usr/local/lib/python3.6/dist-packages (from tslearn) (1.4.1)\n",
            "Requirement already satisfied: joblib in /usr/local/lib/python3.6/dist-packages (from tslearn) (1.0.0)\n",
            "Requirement already satisfied: numba in /usr/local/lib/python3.6/dist-packages (from tslearn) (0.48.0)\n",
            "Requirement already satisfied: scikit-learn in /usr/local/lib/python3.6/dist-packages (from tslearn) (0.22.2.post1)\n",
            "Requirement already satisfied: Cython in /usr/local/lib/python3.6/dist-packages (from tslearn) (0.29.21)\n",
            "Requirement already satisfied: llvmlite<0.32.0,>=0.31.0dev0 in /usr/local/lib/python3.6/dist-packages (from numba->tslearn) (0.31.0)\n",
            "Requirement already satisfied: setuptools in /usr/local/lib/python3.6/dist-packages (from numba->tslearn) (50.3.2)\n",
            "Installing collected packages: tslearn\n",
            "Successfully installed tslearn-0.4.1\n",
            "rm: cannot remove 'Yada': No such file or directory\n",
            "Cloning into 'Yada'...\n",
            "remote: Enumerating objects: 126, done.\u001b[K\n",
            "remote: Counting objects: 100% (126/126), done.\u001b[K\n",
            "remote: Compressing objects: 100% (108/108), done.\u001b[K\n",
            "remote: Total 285 (delta 70), reused 47 (delta 18), pack-reused 159\u001b[K\n",
            "Receiving objects: 100% (285/285), 53.76 MiB | 20.94 MiB/s, done.\n",
            "Resolving deltas: 100% (103/103), done.\n"
          ],
          "name": "stdout"
        }
      ]
    },
    {
      "cell_type": "markdown",
      "metadata": {
        "id": "kMFVzieydzYa"
      },
      "source": [
        "## Configure Input Files\r\n"
      ]
    },
    {
      "cell_type": "code",
      "metadata": {
        "id": "FQvkD2ajdzYi"
      },
      "source": [
        "from yada import *\n",
        "\n",
        "#This is the mixture file in the format: columns: mix1, mix2, ..., rows: gene names.\n",
        "mix = 'data/Abbas/mix.csv'\n",
        "#Reference matrix name. Should be normalized as the mix data.\n",
        "pure = 'data/Abbas/pure.csv'\n",
        "labels = 'data/Abbas/labels.csv'"
      ],
      "execution_count": 2,
      "outputs": []
    },
    {
      "cell_type": "markdown",
      "metadata": {
        "id": "iPrT3lvIdzYm"
      },
      "source": [
        "## Run deconvolution."
      ]
    },
    {
      "cell_type": "code",
      "metadata": {
        "id": "rIQpSv0nFKs1"
      },
      "source": [
        "#Select deconvolution methods and number of runs (or leave default values). Available methods: dtw_deconv, cibersort, dsection, lasso, nnls_deconv_constrained, ica_deconv (later).\r\n",
        "result = run_deconv(10, mix, pure, dtw_deconv)\r\n",
        "result"
      ],
      "execution_count": null,
      "outputs": []
    },
    {
      "cell_type": "code",
      "metadata": {
        "id": "6VjqKJrBMtBB"
      },
      "source": [
        "#In case true proportions are available.\r\n",
        "calc_corr(labels, result)"
      ],
      "execution_count": null,
      "outputs": []
    },
    {
      "cell_type": "code",
      "metadata": {
        "id": "OxwfVByfdzYv"
      },
      "source": [
        "#Download Result.\r\n",
        "#FileLink('data/results.csv')\r\n",
        "from google.colab import files\r\n",
        "files.download('data/results.csv') "
      ],
      "execution_count": null,
      "outputs": []
    }
  ]
}