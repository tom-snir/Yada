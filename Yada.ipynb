{
  "nbformat": 4,
  "nbformat_minor": 0,
  "metadata": {
    "kernelspec": {
      "display_name": "Python 3",
      "language": "python",
      "name": "python3"
    },
    "language_info": {
      "codemirror_mode": {
        "name": "ipython",
        "version": 3
      },
      "file_extension": ".py",
      "mimetype": "text/x-python",
      "name": "python",
      "nbconvert_exporter": "python",
      "pygments_lexer": "ipython3",
      "version": "3.7.6"
    },
    "colab": {
      "name": "Yada.ipynb",
      "provenance": [],
      "collapsed_sections": []
    }
  },
  "cells": [
    {
      "cell_type": "markdown",
      "metadata": {
        "id": "_Fh3BwMNdzYP"
      },
      "source": [
        "# Yada Deconvolution\n",
        "\n",
        "- Run the following cells for deconvolution using Yada.\n",
        "- Example files are provided in data folder.\n",
        "- In case that a special normalizations or scale is required edit the file yada.py."
      ]
    },
    {
      "cell_type": "code",
      "metadata": {
        "id": "GE9Tg1H1dzYS",
        "colab": {
          "base_uri": "https://localhost:8080/"
        },
        "outputId": "28493402-45c2-412a-f4e2-dcd4775c900e"
      },
      "source": [
        "#Import prerequisites\n",
        "from IPython.display import FileLink, FileLinks\n",
        "import pandas as pd\n",
        "\n",
        "\n",
        "pd.set_option('display.max_columns', 500)\n",
        "pd.set_option('display.width', 10000)\n",
        "\n",
        "!pip install tslearn\n",
        "!rm -r Yada\n",
        "!git clone https://github.com/zurkin1/Yada.git\n",
        "!mv Yada/* ."
      ],
      "execution_count": 1,
      "outputs": [
        {
          "output_type": "stream",
          "text": [
            "Collecting tslearn\n",
            "\u001b[?25l  Downloading https://files.pythonhosted.org/packages/a7/67/aa3149fdfef2582d881ce4a5117c9e6a465d5082dd57866904ca508a157c/tslearn-0.4.1-cp36-cp36m-manylinux2010_x86_64.whl (770kB)\n",
            "\r\u001b[K     |▍                               | 10kB 17.3MB/s eta 0:00:01\r\u001b[K     |▉                               | 20kB 22.1MB/s eta 0:00:01\r\u001b[K     |█▎                              | 30kB 27.5MB/s eta 0:00:01\r\u001b[K     |█▊                              | 40kB 31.2MB/s eta 0:00:01\r\u001b[K     |██▏                             | 51kB 4.2MB/s eta 0:00:01\r\u001b[K     |██▌                             | 61kB 4.9MB/s eta 0:00:01\r\u001b[K     |███                             | 71kB 5.6MB/s eta 0:00:01\r\u001b[K     |███▍                            | 81kB 6.3MB/s eta 0:00:01\r\u001b[K     |███▉                            | 92kB 3.7MB/s eta 0:00:01\r\u001b[K     |████▎                           | 102kB 4.0MB/s eta 0:00:01\r\u001b[K     |████▊                           | 112kB 4.0MB/s eta 0:00:01\r\u001b[K     |█████                           | 122kB 4.0MB/s eta 0:00:01\r\u001b[K     |█████▌                          | 133kB 4.0MB/s eta 0:00:01\r\u001b[K     |██████                          | 143kB 4.0MB/s eta 0:00:01\r\u001b[K     |██████▍                         | 153kB 4.0MB/s eta 0:00:01\r\u001b[K     |██████▉                         | 163kB 4.0MB/s eta 0:00:01\r\u001b[K     |███████▎                        | 174kB 4.0MB/s eta 0:00:01\r\u001b[K     |███████▋                        | 184kB 4.0MB/s eta 0:00:01\r\u001b[K     |████████                        | 194kB 4.0MB/s eta 0:00:01\r\u001b[K     |████████▌                       | 204kB 4.0MB/s eta 0:00:01\r\u001b[K     |█████████                       | 215kB 4.0MB/s eta 0:00:01\r\u001b[K     |█████████▍                      | 225kB 4.0MB/s eta 0:00:01\r\u001b[K     |█████████▉                      | 235kB 4.0MB/s eta 0:00:01\r\u001b[K     |██████████▏                     | 245kB 4.0MB/s eta 0:00:01\r\u001b[K     |██████████▋                     | 256kB 4.0MB/s eta 0:00:01\r\u001b[K     |███████████                     | 266kB 4.0MB/s eta 0:00:01\r\u001b[K     |███████████▌                    | 276kB 4.0MB/s eta 0:00:01\r\u001b[K     |████████████                    | 286kB 4.0MB/s eta 0:00:01\r\u001b[K     |████████████▎                   | 296kB 4.0MB/s eta 0:00:01\r\u001b[K     |████████████▊                   | 307kB 4.0MB/s eta 0:00:01\r\u001b[K     |█████████████▏                  | 317kB 4.0MB/s eta 0:00:01\r\u001b[K     |█████████████▋                  | 327kB 4.0MB/s eta 0:00:01\r\u001b[K     |██████████████                  | 337kB 4.0MB/s eta 0:00:01\r\u001b[K     |██████████████▌                 | 348kB 4.0MB/s eta 0:00:01\r\u001b[K     |██████████████▉                 | 358kB 4.0MB/s eta 0:00:01\r\u001b[K     |███████████████▎                | 368kB 4.0MB/s eta 0:00:01\r\u001b[K     |███████████████▊                | 378kB 4.0MB/s eta 0:00:01\r\u001b[K     |████████████████▏               | 389kB 4.0MB/s eta 0:00:01\r\u001b[K     |████████████████▋               | 399kB 4.0MB/s eta 0:00:01\r\u001b[K     |█████████████████               | 409kB 4.0MB/s eta 0:00:01\r\u001b[K     |█████████████████▍              | 419kB 4.0MB/s eta 0:00:01\r\u001b[K     |█████████████████▉              | 430kB 4.0MB/s eta 0:00:01\r\u001b[K     |██████████████████▎             | 440kB 4.0MB/s eta 0:00:01\r\u001b[K     |██████████████████▊             | 450kB 4.0MB/s eta 0:00:01\r\u001b[K     |███████████████████▏            | 460kB 4.0MB/s eta 0:00:01\r\u001b[K     |███████████████████▋            | 471kB 4.0MB/s eta 0:00:01\r\u001b[K     |████████████████████            | 481kB 4.0MB/s eta 0:00:01\r\u001b[K     |████████████████████▍           | 491kB 4.0MB/s eta 0:00:01\r\u001b[K     |████████████████████▉           | 501kB 4.0MB/s eta 0:00:01\r\u001b[K     |█████████████████████▎          | 512kB 4.0MB/s eta 0:00:01\r\u001b[K     |█████████████████████▊          | 522kB 4.0MB/s eta 0:00:01\r\u001b[K     |██████████████████████          | 532kB 4.0MB/s eta 0:00:01\r\u001b[K     |██████████████████████▌         | 542kB 4.0MB/s eta 0:00:01\r\u001b[K     |███████████████████████         | 552kB 4.0MB/s eta 0:00:01\r\u001b[K     |███████████████████████▍        | 563kB 4.0MB/s eta 0:00:01\r\u001b[K     |███████████████████████▉        | 573kB 4.0MB/s eta 0:00:01\r\u001b[K     |████████████████████████▎       | 583kB 4.0MB/s eta 0:00:01\r\u001b[K     |████████████████████████▋       | 593kB 4.0MB/s eta 0:00:01\r\u001b[K     |█████████████████████████       | 604kB 4.0MB/s eta 0:00:01\r\u001b[K     |█████████████████████████▌      | 614kB 4.0MB/s eta 0:00:01\r\u001b[K     |██████████████████████████      | 624kB 4.0MB/s eta 0:00:01\r\u001b[K     |██████████████████████████▍     | 634kB 4.0MB/s eta 0:00:01\r\u001b[K     |██████████████████████████▉     | 645kB 4.0MB/s eta 0:00:01\r\u001b[K     |███████████████████████████▏    | 655kB 4.0MB/s eta 0:00:01\r\u001b[K     |███████████████████████████▋    | 665kB 4.0MB/s eta 0:00:01\r\u001b[K     |████████████████████████████    | 675kB 4.0MB/s eta 0:00:01\r\u001b[K     |████████████████████████████▌   | 686kB 4.0MB/s eta 0:00:01\r\u001b[K     |█████████████████████████████   | 696kB 4.0MB/s eta 0:00:01\r\u001b[K     |█████████████████████████████▍  | 706kB 4.0MB/s eta 0:00:01\r\u001b[K     |█████████████████████████████▊  | 716kB 4.0MB/s eta 0:00:01\r\u001b[K     |██████████████████████████████▏ | 727kB 4.0MB/s eta 0:00:01\r\u001b[K     |██████████████████████████████▋ | 737kB 4.0MB/s eta 0:00:01\r\u001b[K     |███████████████████████████████ | 747kB 4.0MB/s eta 0:00:01\r\u001b[K     |███████████████████████████████▌| 757kB 4.0MB/s eta 0:00:01\r\u001b[K     |███████████████████████████████▉| 768kB 4.0MB/s eta 0:00:01\r\u001b[K     |████████████████████████████████| 778kB 4.0MB/s \n",
            "\u001b[?25hRequirement already satisfied: scipy in /usr/local/lib/python3.6/dist-packages (from tslearn) (1.4.1)\n",
            "Requirement already satisfied: numba in /usr/local/lib/python3.6/dist-packages (from tslearn) (0.48.0)\n",
            "Requirement already satisfied: scikit-learn in /usr/local/lib/python3.6/dist-packages (from tslearn) (0.22.2.post1)\n",
            "Requirement already satisfied: numpy in /usr/local/lib/python3.6/dist-packages (from tslearn) (1.19.4)\n",
            "Requirement already satisfied: Cython in /usr/local/lib/python3.6/dist-packages (from tslearn) (0.29.21)\n",
            "Requirement already satisfied: joblib in /usr/local/lib/python3.6/dist-packages (from tslearn) (1.0.0)\n",
            "Requirement already satisfied: llvmlite<0.32.0,>=0.31.0dev0 in /usr/local/lib/python3.6/dist-packages (from numba->tslearn) (0.31.0)\n",
            "Requirement already satisfied: setuptools in /usr/local/lib/python3.6/dist-packages (from numba->tslearn) (50.3.2)\n",
            "Installing collected packages: tslearn\n",
            "Successfully installed tslearn-0.4.1\n",
            "rm: cannot remove 'Yada': No such file or directory\n",
            "Cloning into 'Yada'...\n",
            "remote: Enumerating objects: 96, done.\u001b[K\n",
            "remote: Counting objects: 100% (96/96), done.\u001b[K\n",
            "remote: Compressing objects: 100% (78/78), done.\u001b[K\n",
            "remote: Total 255 (delta 50), reused 47 (delta 18), pack-reused 159\u001b[K\n",
            "Receiving objects: 100% (255/255), 53.75 MiB | 16.04 MiB/s, done.\n",
            "Resolving deltas: 100% (83/83), done.\n"
          ],
          "name": "stdout"
        }
      ]
    },
    {
      "cell_type": "markdown",
      "metadata": {
        "id": "kMFVzieydzYa"
      },
      "source": [
        "## Configure Input Files\r\n"
      ]
    },
    {
      "cell_type": "code",
      "metadata": {
        "id": "FQvkD2ajdzYi"
      },
      "source": [
        "from yada import *\n",
        "\n",
        "#!cp data/GBM/pure.csv ./data/pure.csv\n",
        "#This is the mixture file in the format: columns: mix1, mix2, ..., rows: HUGO gene names.\n",
        "mix = 'data/GBM/mix.csv'\n",
        "#Reference matrix name. Our sample mix data is RNA-seq TPM normalized so we used an appropriate matrix.\n",
        "pure = 'data/GBM/pure.csv' \n",
        "\n",
        "#Select deconvolution methods and number of runs (or leave default values).\n",
        "cells_brain = ['astrocytes','endothelial','oligodendrocyte','microglia', 'neurons','oligo-precursor']\n",
        "methods = [\n",
        "            [10, #Number of runs.\n",
        "             dtw_deconv, #Method.\n",
        "             cells_brain,\n",
        "             pure,\n",
        "            ]\n",
        "        ]"
      ],
      "execution_count": 2,
      "outputs": []
    },
    {
      "cell_type": "markdown",
      "metadata": {
        "id": "iPrT3lvIdzYm"
      },
      "source": [
        "## Run deconvolution."
      ]
    },
    {
      "cell_type": "code",
      "metadata": {
        "id": "4t1Nxz0DdzYn",
        "colab": {
          "base_uri": "https://localhost:8080/",
          "height": 596
        },
        "outputId": "4ec2e5a0-bad5-4f30-b423-8623ae0572ee"
      },
      "source": [
        "run_deconv(mix, methods)"
      ],
      "execution_count": 5,
      "outputs": [
        {
          "output_type": "stream",
          "text": [
            "Deconvolution, num_mixes: 16\n",
            "dtw_deconv, data/GBM/pure.csv\n",
            " 90%"
          ],
          "name": "stdout"
        },
        {
          "output_type": "execute_result",
          "data": {
            "text/html": [
              "<div>\n",
              "<style scoped>\n",
              "    .dataframe tbody tr th:only-of-type {\n",
              "        vertical-align: middle;\n",
              "    }\n",
              "\n",
              "    .dataframe tbody tr th {\n",
              "        vertical-align: top;\n",
              "    }\n",
              "\n",
              "    .dataframe thead th {\n",
              "        text-align: right;\n",
              "    }\n",
              "</style>\n",
              "<table border=\"1\" class=\"dataframe\">\n",
              "  <thead>\n",
              "    <tr style=\"text-align: right;\">\n",
              "      <th></th>\n",
              "      <th>astrocytes</th>\n",
              "      <th>endothelial</th>\n",
              "      <th>oligodendrocyte</th>\n",
              "      <th>microglia</th>\n",
              "      <th>neurons</th>\n",
              "      <th>oligo-precursor</th>\n",
              "    </tr>\n",
              "  </thead>\n",
              "  <tbody>\n",
              "    <tr>\n",
              "      <th>0</th>\n",
              "      <td>0.028337</td>\n",
              "      <td>0.290927</td>\n",
              "      <td>0.066956</td>\n",
              "      <td>0.044190</td>\n",
              "      <td>0.010082</td>\n",
              "      <td>2.582045e-01</td>\n",
              "    </tr>\n",
              "    <tr>\n",
              "      <th>1</th>\n",
              "      <td>0.030636</td>\n",
              "      <td>0.356315</td>\n",
              "      <td>0.069356</td>\n",
              "      <td>0.095207</td>\n",
              "      <td>0.007671</td>\n",
              "      <td>3.147414e-01</td>\n",
              "    </tr>\n",
              "    <tr>\n",
              "      <th>2</th>\n",
              "      <td>0.443564</td>\n",
              "      <td>0.002412</td>\n",
              "      <td>0.007677</td>\n",
              "      <td>0.000161</td>\n",
              "      <td>0.448089</td>\n",
              "      <td>9.380160e-03</td>\n",
              "    </tr>\n",
              "    <tr>\n",
              "      <th>3</th>\n",
              "      <td>0.092294</td>\n",
              "      <td>0.448631</td>\n",
              "      <td>0.064519</td>\n",
              "      <td>0.118347</td>\n",
              "      <td>0.058079</td>\n",
              "      <td>2.661526e-01</td>\n",
              "    </tr>\n",
              "    <tr>\n",
              "      <th>4</th>\n",
              "      <td>0.486393</td>\n",
              "      <td>0.001406</td>\n",
              "      <td>0.002328</td>\n",
              "      <td>0.000724</td>\n",
              "      <td>0.478654</td>\n",
              "      <td>8.198800e-03</td>\n",
              "    </tr>\n",
              "    <tr>\n",
              "      <th>5</th>\n",
              "      <td>0.071411</td>\n",
              "      <td>0.461023</td>\n",
              "      <td>0.057994</td>\n",
              "      <td>0.192207</td>\n",
              "      <td>0.124979</td>\n",
              "      <td>2.078646e-01</td>\n",
              "    </tr>\n",
              "    <tr>\n",
              "      <th>6</th>\n",
              "      <td>0.530234</td>\n",
              "      <td>0.002818</td>\n",
              "      <td>0.000000</td>\n",
              "      <td>0.002942</td>\n",
              "      <td>0.537284</td>\n",
              "      <td>8.543852e-18</td>\n",
              "    </tr>\n",
              "    <tr>\n",
              "      <th>7</th>\n",
              "      <td>0.117141</td>\n",
              "      <td>0.401547</td>\n",
              "      <td>0.061937</td>\n",
              "      <td>0.107600</td>\n",
              "      <td>0.108084</td>\n",
              "      <td>2.431878e-01</td>\n",
              "    </tr>\n",
              "    <tr>\n",
              "      <th>8</th>\n",
              "      <td>0.093525</td>\n",
              "      <td>0.402185</td>\n",
              "      <td>0.100399</td>\n",
              "      <td>0.080497</td>\n",
              "      <td>0.033376</td>\n",
              "      <td>3.035552e-01</td>\n",
              "    </tr>\n",
              "    <tr>\n",
              "      <th>9</th>\n",
              "      <td>0.465389</td>\n",
              "      <td>0.005241</td>\n",
              "      <td>0.003311</td>\n",
              "      <td>0.000734</td>\n",
              "      <td>0.452983</td>\n",
              "      <td>9.811251e-03</td>\n",
              "    </tr>\n",
              "    <tr>\n",
              "      <th>10</th>\n",
              "      <td>0.039311</td>\n",
              "      <td>0.385571</td>\n",
              "      <td>0.058549</td>\n",
              "      <td>0.071853</td>\n",
              "      <td>0.018078</td>\n",
              "      <td>2.502577e-01</td>\n",
              "    </tr>\n",
              "    <tr>\n",
              "      <th>11</th>\n",
              "      <td>0.082573</td>\n",
              "      <td>0.391762</td>\n",
              "      <td>0.068040</td>\n",
              "      <td>0.087789</td>\n",
              "      <td>0.060675</td>\n",
              "      <td>2.601993e-01</td>\n",
              "    </tr>\n",
              "    <tr>\n",
              "      <th>12</th>\n",
              "      <td>0.101044</td>\n",
              "      <td>0.485724</td>\n",
              "      <td>0.064741</td>\n",
              "      <td>0.138526</td>\n",
              "      <td>0.120551</td>\n",
              "      <td>2.820013e-01</td>\n",
              "    </tr>\n",
              "    <tr>\n",
              "      <th>13</th>\n",
              "      <td>0.143880</td>\n",
              "      <td>0.278955</td>\n",
              "      <td>0.067338</td>\n",
              "      <td>0.131341</td>\n",
              "      <td>0.134017</td>\n",
              "      <td>2.606303e-01</td>\n",
              "    </tr>\n",
              "    <tr>\n",
              "      <th>14</th>\n",
              "      <td>0.104191</td>\n",
              "      <td>0.346187</td>\n",
              "      <td>0.043826</td>\n",
              "      <td>0.135690</td>\n",
              "      <td>0.222544</td>\n",
              "      <td>1.890852e-01</td>\n",
              "    </tr>\n",
              "    <tr>\n",
              "      <th>15</th>\n",
              "      <td>0.064361</td>\n",
              "      <td>0.380124</td>\n",
              "      <td>0.064761</td>\n",
              "      <td>0.091672</td>\n",
              "      <td>0.056529</td>\n",
              "      <td>2.464059e-01</td>\n",
              "    </tr>\n",
              "  </tbody>\n",
              "</table>\n",
              "</div>"
            ],
            "text/plain": [
              "    astrocytes  endothelial  oligodendrocyte  microglia   neurons  oligo-precursor\n",
              "0     0.028337     0.290927         0.066956   0.044190  0.010082     2.582045e-01\n",
              "1     0.030636     0.356315         0.069356   0.095207  0.007671     3.147414e-01\n",
              "2     0.443564     0.002412         0.007677   0.000161  0.448089     9.380160e-03\n",
              "3     0.092294     0.448631         0.064519   0.118347  0.058079     2.661526e-01\n",
              "4     0.486393     0.001406         0.002328   0.000724  0.478654     8.198800e-03\n",
              "5     0.071411     0.461023         0.057994   0.192207  0.124979     2.078646e-01\n",
              "6     0.530234     0.002818         0.000000   0.002942  0.537284     8.543852e-18\n",
              "7     0.117141     0.401547         0.061937   0.107600  0.108084     2.431878e-01\n",
              "8     0.093525     0.402185         0.100399   0.080497  0.033376     3.035552e-01\n",
              "9     0.465389     0.005241         0.003311   0.000734  0.452983     9.811251e-03\n",
              "10    0.039311     0.385571         0.058549   0.071853  0.018078     2.502577e-01\n",
              "11    0.082573     0.391762         0.068040   0.087789  0.060675     2.601993e-01\n",
              "12    0.101044     0.485724         0.064741   0.138526  0.120551     2.820013e-01\n",
              "13    0.143880     0.278955         0.067338   0.131341  0.134017     2.606303e-01\n",
              "14    0.104191     0.346187         0.043826   0.135690  0.222544     1.890852e-01\n",
              "15    0.064361     0.380124         0.064761   0.091672  0.056529     2.464059e-01"
            ]
          },
          "metadata": {
            "tags": []
          },
          "execution_count": 5
        }
      ]
    },
    {
      "cell_type": "code",
      "metadata": {
        "id": "qbJtiNSMdzYs",
        "colab": {
          "base_uri": "https://localhost:8080/",
          "height": 17
        },
        "outputId": "8846cd15-e249-4acc-c250-8fc515c7ef7d"
      },
      "source": [
        "#Download Result.\n",
        "#FileLink('data/results.csv')\n",
        "from google.colab import files\n",
        "files.download('data/results.csv') "
      ],
      "execution_count": 8,
      "outputs": [
        {
          "output_type": "display_data",
          "data": {
            "application/javascript": [
              "\n",
              "    async function download(id, filename, size) {\n",
              "      if (!google.colab.kernel.accessAllowed) {\n",
              "        return;\n",
              "      }\n",
              "      const div = document.createElement('div');\n",
              "      const label = document.createElement('label');\n",
              "      label.textContent = `Downloading \"${filename}\": `;\n",
              "      div.appendChild(label);\n",
              "      const progress = document.createElement('progress');\n",
              "      progress.max = size;\n",
              "      div.appendChild(progress);\n",
              "      document.body.appendChild(div);\n",
              "\n",
              "      const buffers = [];\n",
              "      let downloaded = 0;\n",
              "\n",
              "      const channel = await google.colab.kernel.comms.open(id);\n",
              "      // Send a message to notify the kernel that we're ready.\n",
              "      channel.send({})\n",
              "\n",
              "      for await (const message of channel.messages) {\n",
              "        // Send a message to notify the kernel that we're ready.\n",
              "        channel.send({})\n",
              "        if (message.buffers) {\n",
              "          for (const buffer of message.buffers) {\n",
              "            buffers.push(buffer);\n",
              "            downloaded += buffer.byteLength;\n",
              "            progress.value = downloaded;\n",
              "          }\n",
              "        }\n",
              "      }\n",
              "      const blob = new Blob(buffers, {type: 'application/binary'});\n",
              "      const a = document.createElement('a');\n",
              "      a.href = window.URL.createObjectURL(blob);\n",
              "      a.download = filename;\n",
              "      div.appendChild(a);\n",
              "      a.click();\n",
              "      div.remove();\n",
              "    }\n",
              "  "
            ],
            "text/plain": [
              "<IPython.core.display.Javascript object>"
            ]
          },
          "metadata": {
            "tags": []
          }
        },
        {
          "output_type": "display_data",
          "data": {
            "application/javascript": [
              "download(\"download_38f65384-5ee1-413d-9d6c-0120bec9d1e9\", \"results.csv\", 2027)"
            ],
            "text/plain": [
              "<IPython.core.display.Javascript object>"
            ]
          },
          "metadata": {
            "tags": []
          }
        }
      ]
    }
  ]
}