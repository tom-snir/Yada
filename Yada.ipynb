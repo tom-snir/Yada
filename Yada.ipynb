{
  "nbformat": 4,
  "nbformat_minor": 0,
  "metadata": {
    "kernelspec": {
      "display_name": "Python 3",
      "language": "python",
      "name": "python3"
    },
    "language_info": {
      "codemirror_mode": {
        "name": "ipython",
        "version": 3
      },
      "file_extension": ".py",
      "mimetype": "text/x-python",
      "name": "python",
      "nbconvert_exporter": "python",
      "pygments_lexer": "ipython3",
      "version": "3.7.6"
    },
    "colab": {
      "name": "Yada.ipynb",
      "provenance": [],
      "collapsed_sections": []
    }
  },
  "cells": [
    {
      "cell_type": "markdown",
      "metadata": {
        "id": "_Fh3BwMNdzYP"
      },
      "source": [
        "# Yada Deconvolution\n",
        "\n",
        "---\n",
        "\n",
        "\n",
        "\n",
        "- Run the following cells for deconvolution using Yada.\n",
        "- Example files are provided in data folder.\n",
        "- In case that a special normalizations or scale is required edit the file yada.py.\n",
        "\n",
        "## Import prerequisites"
      ]
    },
    {
      "cell_type": "code",
      "metadata": {
        "id": "GE9Tg1H1dzYS",
        "colab": {
          "base_uri": "https://localhost:8080/"
        },
        "outputId": "aefe42ad-4636-4691-f0f2-b5854f146958"
      },
      "source": [
        "from IPython.display import FileLink, FileLinks\n",
        "import pandas as pd\n",
        "\n",
        "\n",
        "pd.set_option('display.max_columns', 500)\n",
        "pd.set_option('display.width', 10000)\n",
        "\n",
        "!pip install tslearn\n",
        "!rm -r Yada\n",
        "!git clone https://github.com/zurkin1/Yada.git\n",
        "!mv Yada/* ."
      ],
      "execution_count": 1,
      "outputs": [
        {
          "output_type": "stream",
          "text": [
            "Collecting tslearn\n",
            "\u001b[?25l  Downloading https://files.pythonhosted.org/packages/a7/67/aa3149fdfef2582d881ce4a5117c9e6a465d5082dd57866904ca508a157c/tslearn-0.4.1-cp36-cp36m-manylinux2010_x86_64.whl (770kB)\n",
            "\r\u001b[K     |▍                               | 10kB 22.4MB/s eta 0:00:01\r\u001b[K     |▉                               | 20kB 31.6MB/s eta 0:00:01\r\u001b[K     |█▎                              | 30kB 31.5MB/s eta 0:00:01\r\u001b[K     |█▊                              | 40kB 21.4MB/s eta 0:00:01\r\u001b[K     |██▏                             | 51kB 14.3MB/s eta 0:00:01\r\u001b[K     |██▌                             | 61kB 15.8MB/s eta 0:00:01\r\u001b[K     |███                             | 71kB 12.6MB/s eta 0:00:01\r\u001b[K     |███▍                            | 81kB 13.4MB/s eta 0:00:01\r\u001b[K     |███▉                            | 92kB 11.3MB/s eta 0:00:01\r\u001b[K     |████▎                           | 102kB 12.0MB/s eta 0:00:01\r\u001b[K     |████▊                           | 112kB 12.0MB/s eta 0:00:01\r\u001b[K     |█████                           | 122kB 12.0MB/s eta 0:00:01\r\u001b[K     |█████▌                          | 133kB 12.0MB/s eta 0:00:01\r\u001b[K     |██████                          | 143kB 12.0MB/s eta 0:00:01\r\u001b[K     |██████▍                         | 153kB 12.0MB/s eta 0:00:01\r\u001b[K     |██████▉                         | 163kB 12.0MB/s eta 0:00:01\r\u001b[K     |███████▎                        | 174kB 12.0MB/s eta 0:00:01\r\u001b[K     |███████▋                        | 184kB 12.0MB/s eta 0:00:01\r\u001b[K     |████████                        | 194kB 12.0MB/s eta 0:00:01\r\u001b[K     |████████▌                       | 204kB 12.0MB/s eta 0:00:01\r\u001b[K     |█████████                       | 215kB 12.0MB/s eta 0:00:01\r\u001b[K     |█████████▍                      | 225kB 12.0MB/s eta 0:00:01\r\u001b[K     |█████████▉                      | 235kB 12.0MB/s eta 0:00:01\r\u001b[K     |██████████▏                     | 245kB 12.0MB/s eta 0:00:01\r\u001b[K     |██████████▋                     | 256kB 12.0MB/s eta 0:00:01\r\u001b[K     |███████████                     | 266kB 12.0MB/s eta 0:00:01\r\u001b[K     |███████████▌                    | 276kB 12.0MB/s eta 0:00:01\r\u001b[K     |████████████                    | 286kB 12.0MB/s eta 0:00:01\r\u001b[K     |████████████▎                   | 296kB 12.0MB/s eta 0:00:01\r\u001b[K     |████████████▊                   | 307kB 12.0MB/s eta 0:00:01\r\u001b[K     |█████████████▏                  | 317kB 12.0MB/s eta 0:00:01\r\u001b[K     |█████████████▋                  | 327kB 12.0MB/s eta 0:00:01\r\u001b[K     |██████████████                  | 337kB 12.0MB/s eta 0:00:01\r\u001b[K     |██████████████▌                 | 348kB 12.0MB/s eta 0:00:01\r\u001b[K     |██████████████▉                 | 358kB 12.0MB/s eta 0:00:01\r\u001b[K     |███████████████▎                | 368kB 12.0MB/s eta 0:00:01\r\u001b[K     |███████████████▊                | 378kB 12.0MB/s eta 0:00:01\r\u001b[K     |████████████████▏               | 389kB 12.0MB/s eta 0:00:01\r\u001b[K     |████████████████▋               | 399kB 12.0MB/s eta 0:00:01\r\u001b[K     |█████████████████               | 409kB 12.0MB/s eta 0:00:01\r\u001b[K     |█████████████████▍              | 419kB 12.0MB/s eta 0:00:01\r\u001b[K     |█████████████████▉              | 430kB 12.0MB/s eta 0:00:01\r\u001b[K     |██████████████████▎             | 440kB 12.0MB/s eta 0:00:01\r\u001b[K     |██████████████████▊             | 450kB 12.0MB/s eta 0:00:01\r\u001b[K     |███████████████████▏            | 460kB 12.0MB/s eta 0:00:01\r\u001b[K     |███████████████████▋            | 471kB 12.0MB/s eta 0:00:01\r\u001b[K     |████████████████████            | 481kB 12.0MB/s eta 0:00:01\r\u001b[K     |████████████████████▍           | 491kB 12.0MB/s eta 0:00:01\r\u001b[K     |████████████████████▉           | 501kB 12.0MB/s eta 0:00:01\r\u001b[K     |█████████████████████▎          | 512kB 12.0MB/s eta 0:00:01\r\u001b[K     |█████████████████████▊          | 522kB 12.0MB/s eta 0:00:01\r\u001b[K     |██████████████████████          | 532kB 12.0MB/s eta 0:00:01\r\u001b[K     |██████████████████████▌         | 542kB 12.0MB/s eta 0:00:01\r\u001b[K     |███████████████████████         | 552kB 12.0MB/s eta 0:00:01\r\u001b[K     |███████████████████████▍        | 563kB 12.0MB/s eta 0:00:01\r\u001b[K     |███████████████████████▉        | 573kB 12.0MB/s eta 0:00:01\r\u001b[K     |████████████████████████▎       | 583kB 12.0MB/s eta 0:00:01\r\u001b[K     |████████████████████████▋       | 593kB 12.0MB/s eta 0:00:01\r\u001b[K     |█████████████████████████       | 604kB 12.0MB/s eta 0:00:01\r\u001b[K     |█████████████████████████▌      | 614kB 12.0MB/s eta 0:00:01\r\u001b[K     |██████████████████████████      | 624kB 12.0MB/s eta 0:00:01\r\u001b[K     |██████████████████████████▍     | 634kB 12.0MB/s eta 0:00:01\r\u001b[K     |██████████████████████████▉     | 645kB 12.0MB/s eta 0:00:01\r\u001b[K     |███████████████████████████▏    | 655kB 12.0MB/s eta 0:00:01\r\u001b[K     |███████████████████████████▋    | 665kB 12.0MB/s eta 0:00:01\r\u001b[K     |████████████████████████████    | 675kB 12.0MB/s eta 0:00:01\r\u001b[K     |████████████████████████████▌   | 686kB 12.0MB/s eta 0:00:01\r\u001b[K     |█████████████████████████████   | 696kB 12.0MB/s eta 0:00:01\r\u001b[K     |█████████████████████████████▍  | 706kB 12.0MB/s eta 0:00:01\r\u001b[K     |█████████████████████████████▊  | 716kB 12.0MB/s eta 0:00:01\r\u001b[K     |██████████████████████████████▏ | 727kB 12.0MB/s eta 0:00:01\r\u001b[K     |██████████████████████████████▋ | 737kB 12.0MB/s eta 0:00:01\r\u001b[K     |███████████████████████████████ | 747kB 12.0MB/s eta 0:00:01\r\u001b[K     |███████████████████████████████▌| 757kB 12.0MB/s eta 0:00:01\r\u001b[K     |███████████████████████████████▉| 768kB 12.0MB/s eta 0:00:01\r\u001b[K     |████████████████████████████████| 778kB 12.0MB/s \n",
            "\u001b[?25hRequirement already satisfied: scikit-learn in /usr/local/lib/python3.6/dist-packages (from tslearn) (0.22.2.post1)\n",
            "Requirement already satisfied: Cython in /usr/local/lib/python3.6/dist-packages (from tslearn) (0.29.21)\n",
            "Requirement already satisfied: numba in /usr/local/lib/python3.6/dist-packages (from tslearn) (0.48.0)\n",
            "Requirement already satisfied: joblib in /usr/local/lib/python3.6/dist-packages (from tslearn) (1.0.0)\n",
            "Requirement already satisfied: numpy in /usr/local/lib/python3.6/dist-packages (from tslearn) (1.19.4)\n",
            "Requirement already satisfied: scipy in /usr/local/lib/python3.6/dist-packages (from tslearn) (1.4.1)\n",
            "Requirement already satisfied: llvmlite<0.32.0,>=0.31.0dev0 in /usr/local/lib/python3.6/dist-packages (from numba->tslearn) (0.31.0)\n",
            "Requirement already satisfied: setuptools in /usr/local/lib/python3.6/dist-packages (from numba->tslearn) (50.3.2)\n",
            "Installing collected packages: tslearn\n",
            "Successfully installed tslearn-0.4.1\n",
            "rm: cannot remove 'Yada': No such file or directory\n",
            "Cloning into 'Yada'...\n",
            "remote: Enumerating objects: 123, done.\u001b[K\n",
            "remote: Counting objects: 100% (123/123), done.\u001b[K\n",
            "remote: Compressing objects: 100% (105/105), done.\u001b[K\n",
            "remote: Total 282 (delta 68), reused 47 (delta 18), pack-reused 159\u001b[K\n",
            "Receiving objects: 100% (282/282), 53.76 MiB | 5.75 MiB/s, done.\n",
            "Resolving deltas: 100% (101/101), done.\n"
          ],
          "name": "stdout"
        }
      ]
    },
    {
      "cell_type": "markdown",
      "metadata": {
        "id": "kMFVzieydzYa"
      },
      "source": [
        "## Configure Input Files\r\n"
      ]
    },
    {
      "cell_type": "code",
      "metadata": {
        "id": "FQvkD2ajdzYi"
      },
      "source": [
        "from yada import *\n",
        "\n",
        "#This is the mixture file in the format: columns: mix1, mix2, ..., rows: gene names.\n",
        "mix = 'data/Abbas/mix.csv'\n",
        "#Reference matrix name. Should be normalized as the mix data.\n",
        "pure = 'data/Abbas/pure.csv'\n",
        "labels = 'data/Abbas/labels.csv'"
      ],
      "execution_count": 15,
      "outputs": []
    },
    {
      "cell_type": "markdown",
      "metadata": {
        "id": "iPrT3lvIdzYm"
      },
      "source": [
        "## Run deconvolution."
      ]
    },
    {
      "cell_type": "code",
      "metadata": {
        "id": "rIQpSv0nFKs1"
      },
      "source": [
        "#Select deconvolution methods and number of runs (or leave default values). Available methods: dtw_deconv, cibersort, dsection, lasso, nnls_deconv_constrained, ica_deconv (later).\r\n",
        "result = run_deconv(10, mix, pure, nnls_deconv_constrained)\r\n",
        "result"
      ],
      "execution_count": null,
      "outputs": []
    },
    {
      "cell_type": "code",
      "metadata": {
        "id": "6VjqKJrBMtBB"
      },
      "source": [
        "#In case true proportions are available.\r\n",
        "calc_corr(labels, result)"
      ],
      "execution_count": null,
      "outputs": []
    },
    {
      "cell_type": "code",
      "metadata": {
        "id": "OxwfVByfdzYv"
      },
      "source": [
        "#Download Result.\r\n",
        "#FileLink('data/results.csv')\r\n",
        "from google.colab import files\r\n",
        "files.download('data/results.csv') "
      ],
      "execution_count": null,
      "outputs": []
    }
  ]
}