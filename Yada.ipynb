{
  "nbformat": 4,
  "nbformat_minor": 0,
  "metadata": {
    "kernelspec": {
      "display_name": "Python 3",
      "language": "python",
      "name": "python3"
    },
    "language_info": {
      "codemirror_mode": {
        "name": "ipython",
        "version": 3
      },
      "file_extension": ".py",
      "mimetype": "text/x-python",
      "name": "python",
      "nbconvert_exporter": "python",
      "pygments_lexer": "ipython3",
      "version": "3.7.6"
    },
    "colab": {
      "name": "Yada.ipynb",
      "provenance": [],
      "collapsed_sections": []
    }
  },
  "cells": [
    {
      "cell_type": "markdown",
      "metadata": {
        "id": "_Fh3BwMNdzYP"
      },
      "source": [
        "# Yada Deconvolution\n",
        "\n",
        "- Run the following cells for deconvolution using Yada.\n",
        "- Example files are provided in data folder."
      ]
    },
    {
      "cell_type": "code",
      "metadata": {
        "id": "GE9Tg1H1dzYS",
        "colab": {
          "base_uri": "https://localhost:8080/",
          "height": 401
        },
        "outputId": "532da83d-4d41-4618-cd35-568cec938d30"
      },
      "source": [
        "#Import prerequisites\n",
        "!pip install tslearn\n",
        "!rm -r Yada\n",
        "!git clone https://github.com/zurkin1/Yada.git\n",
        "!mv Yada/* ."
      ],
      "execution_count": null,
      "outputs": [
        {
          "output_type": "stream",
          "text": [
            "Collecting tslearn\n",
            "\u001b[?25l  Downloading https://files.pythonhosted.org/packages/a7/67/aa3149fdfef2582d881ce4a5117c9e6a465d5082dd57866904ca508a157c/tslearn-0.4.1-cp36-cp36m-manylinux2010_x86_64.whl (770kB)\n",
            "\r\u001b[K     |▍                               | 10kB 15.5MB/s eta 0:00:01\r\u001b[K     |▉                               | 20kB 2.8MB/s eta 0:00:01\r\u001b[K     |█▎                              | 30kB 3.8MB/s eta 0:00:01\r\u001b[K     |█▊                              | 40kB 4.2MB/s eta 0:00:01\r\u001b[K     |██▏                             | 51kB 3.3MB/s eta 0:00:01\r\u001b[K     |██▌                             | 61kB 3.7MB/s eta 0:00:01\r\u001b[K     |███                             | 71kB 3.9MB/s eta 0:00:01\r\u001b[K     |███▍                            | 81kB 4.2MB/s eta 0:00:01\r\u001b[K     |███▉                            | 92kB 4.5MB/s eta 0:00:01\r\u001b[K     |████▎                           | 102kB 4.4MB/s eta 0:00:01\r\u001b[K     |████▊                           | 112kB 4.4MB/s eta 0:00:01\r\u001b[K     |█████                           | 122kB 4.4MB/s eta 0:00:01\r\u001b[K     |█████▌                          | 133kB 4.4MB/s eta 0:00:01\r\u001b[K     |██████                          | 143kB 4.4MB/s eta 0:00:01\r\u001b[K     |██████▍                         | 153kB 4.4MB/s eta 0:00:01\r\u001b[K     |██████▉                         | 163kB 4.4MB/s eta 0:00:01\r\u001b[K     |███████▎                        | 174kB 4.4MB/s eta 0:00:01\r\u001b[K     |███████▋                        | 184kB 4.4MB/s eta 0:00:01\r\u001b[K     |████████                        | 194kB 4.4MB/s eta 0:00:01\r\u001b[K     |████████▌                       | 204kB 4.4MB/s eta 0:00:01\r\u001b[K     |█████████                       | 215kB 4.4MB/s eta 0:00:01\r\u001b[K     |█████████▍                      | 225kB 4.4MB/s eta 0:00:01\r\u001b[K     |█████████▉                      | 235kB 4.4MB/s eta 0:00:01\r\u001b[K     |██████████▏                     | 245kB 4.4MB/s eta 0:00:01\r\u001b[K     |██████████▋                     | 256kB 4.4MB/s eta 0:00:01\r\u001b[K     |███████████                     | 266kB 4.4MB/s eta 0:00:01\r\u001b[K     |███████████▌                    | 276kB 4.4MB/s eta 0:00:01\r\u001b[K     |████████████                    | 286kB 4.4MB/s eta 0:00:01\r\u001b[K     |████████████▎                   | 296kB 4.4MB/s eta 0:00:01\r\u001b[K     |████████████▊                   | 307kB 4.4MB/s eta 0:00:01\r\u001b[K     |█████████████▏                  | 317kB 4.4MB/s eta 0:00:01\r\u001b[K     |█████████████▋                  | 327kB 4.4MB/s eta 0:00:01\r\u001b[K     |██████████████                  | 337kB 4.4MB/s eta 0:00:01\r\u001b[K     |██████████████▌                 | 348kB 4.4MB/s eta 0:00:01\r\u001b[K     |██████████████▉                 | 358kB 4.4MB/s eta 0:00:01\r\u001b[K     |███████████████▎                | 368kB 4.4MB/s eta 0:00:01\r\u001b[K     |███████████████▊                | 378kB 4.4MB/s eta 0:00:01\r\u001b[K     |████████████████▏               | 389kB 4.4MB/s eta 0:00:01\r\u001b[K     |████████████████▋               | 399kB 4.4MB/s eta 0:00:01\r\u001b[K     |█████████████████               | 409kB 4.4MB/s eta 0:00:01\r\u001b[K     |█████████████████▍              | 419kB 4.4MB/s eta 0:00:01\r\u001b[K     |█████████████████▉              | 430kB 4.4MB/s eta 0:00:01\r\u001b[K     |██████████████████▎             | 440kB 4.4MB/s eta 0:00:01\r\u001b[K     |██████████████████▊             | 450kB 4.4MB/s eta 0:00:01\r\u001b[K     |███████████████████▏            | 460kB 4.4MB/s eta 0:00:01\r\u001b[K     |███████████████████▋            | 471kB 4.4MB/s eta 0:00:01\r\u001b[K     |████████████████████            | 481kB 4.4MB/s eta 0:00:01\r\u001b[K     |████████████████████▍           | 491kB 4.4MB/s eta 0:00:01\r\u001b[K     |████████████████████▉           | 501kB 4.4MB/s eta 0:00:01\r\u001b[K     |█████████████████████▎          | 512kB 4.4MB/s eta 0:00:01\r\u001b[K     |█████████████████████▊          | 522kB 4.4MB/s eta 0:00:01\r\u001b[K     |██████████████████████          | 532kB 4.4MB/s eta 0:00:01\r\u001b[K     |██████████████████████▌         | 542kB 4.4MB/s eta 0:00:01\r\u001b[K     |███████████████████████         | 552kB 4.4MB/s eta 0:00:01\r\u001b[K     |███████████████████████▍        | 563kB 4.4MB/s eta 0:00:01\r\u001b[K     |███████████████████████▉        | 573kB 4.4MB/s eta 0:00:01\r\u001b[K     |████████████████████████▎       | 583kB 4.4MB/s eta 0:00:01\r\u001b[K     |████████████████████████▋       | 593kB 4.4MB/s eta 0:00:01\r\u001b[K     |█████████████████████████       | 604kB 4.4MB/s eta 0:00:01\r\u001b[K     |█████████████████████████▌      | 614kB 4.4MB/s eta 0:00:01\r\u001b[K     |██████████████████████████      | 624kB 4.4MB/s eta 0:00:01\r\u001b[K     |██████████████████████████▍     | 634kB 4.4MB/s eta 0:00:01\r\u001b[K     |██████████████████████████▉     | 645kB 4.4MB/s eta 0:00:01\r\u001b[K     |███████████████████████████▏    | 655kB 4.4MB/s eta 0:00:01\r\u001b[K     |███████████████████████████▋    | 665kB 4.4MB/s eta 0:00:01\r\u001b[K     |████████████████████████████    | 675kB 4.4MB/s eta 0:00:01\r\u001b[K     |████████████████████████████▌   | 686kB 4.4MB/s eta 0:00:01\r\u001b[K     |█████████████████████████████   | 696kB 4.4MB/s eta 0:00:01\r\u001b[K     |█████████████████████████████▍  | 706kB 4.4MB/s eta 0:00:01\r\u001b[K     |█████████████████████████████▊  | 716kB 4.4MB/s eta 0:00:01\r\u001b[K     |██████████████████████████████▏ | 727kB 4.4MB/s eta 0:00:01\r\u001b[K     |██████████████████████████████▋ | 737kB 4.4MB/s eta 0:00:01\r\u001b[K     |███████████████████████████████ | 747kB 4.4MB/s eta 0:00:01\r\u001b[K     |███████████████████████████████▌| 757kB 4.4MB/s eta 0:00:01\r\u001b[K     |███████████████████████████████▉| 768kB 4.4MB/s eta 0:00:01\r\u001b[K     |████████████████████████████████| 778kB 4.4MB/s \n",
            "\u001b[?25hRequirement already satisfied: Cython in /usr/local/lib/python3.6/dist-packages (from tslearn) (0.29.21)\n",
            "Requirement already satisfied: numpy in /usr/local/lib/python3.6/dist-packages (from tslearn) (1.18.5)\n",
            "Requirement already satisfied: joblib in /usr/local/lib/python3.6/dist-packages (from tslearn) (0.16.0)\n",
            "Requirement already satisfied: numba in /usr/local/lib/python3.6/dist-packages (from tslearn) (0.48.0)\n",
            "Requirement already satisfied: scipy in /usr/local/lib/python3.6/dist-packages (from tslearn) (1.4.1)\n",
            "Requirement already satisfied: scikit-learn in /usr/local/lib/python3.6/dist-packages (from tslearn) (0.22.2.post1)\n",
            "Requirement already satisfied: llvmlite<0.32.0,>=0.31.0dev0 in /usr/local/lib/python3.6/dist-packages (from numba->tslearn) (0.31.0)\n",
            "Requirement already satisfied: setuptools in /usr/local/lib/python3.6/dist-packages (from numba->tslearn) (50.3.0)\n",
            "Installing collected packages: tslearn\n",
            "Successfully installed tslearn-0.4.1\n",
            "rm: cannot remove 'Yada': No such file or directory\n",
            "Cloning into 'Yada'...\n",
            "remote: Enumerating objects: 71, done.\u001b[K\n",
            "remote: Counting objects: 100% (71/71), done.\u001b[K\n",
            "remote: Compressing objects: 100% (54/54), done.\u001b[K\n",
            "remote: Total 230 (delta 35), reused 48 (delta 17), pack-reused 159\u001b[K\n",
            "Receiving objects: 100% (230/230), 53.69 MiB | 23.78 MiB/s, done.\n",
            "Resolving deltas: 100% (68/68), done.\n"
          ],
          "name": "stdout"
        }
      ]
    },
    {
      "cell_type": "code",
      "metadata": {
        "id": "kepdMPeaxwUz"
      },
      "source": [
        "!cp data/GBM/pure.csv ./data/pure.csv"
      ],
      "execution_count": null,
      "outputs": []
    },
    {
      "cell_type": "markdown",
      "metadata": {
        "id": "kMFVzieydzYa"
      },
      "source": [
        "## Configure input files (sample files are provided)."
      ]
    },
    {
      "cell_type": "code",
      "metadata": {
        "id": "-0tGQBkydzYb"
      },
      "source": [
        "mix = 'data/GBM/mix.csv' #This is the mixture file in the format: columns: mix1, mix2, ..., rows: HUGO gene names."
      ],
      "execution_count": null,
      "outputs": []
    },
    {
      "cell_type": "markdown",
      "metadata": {
        "id": "yvQoLJaAdzYh"
      },
      "source": [
        "## Select deconvolution methods (or leave default values if using PBMC cell types).\n",
        "\n",
        "In order to simplify usage we tried not to require different platform, normalizations and scale parameters. Any such configuration can be added to the method."
      ]
    },
    {
      "cell_type": "code",
      "metadata": {
        "id": "FQvkD2ajdzYi"
      },
      "source": [
        "from yada import *\n",
        "\n",
        "#cells_pbmc14 = ['memory.B.cells', 'naive.B.cells', 'memory.CD4.T.cells', 'naive.CD4.T.cells', 'regulatory.T.cells', 'memory.CD8.T.cells', 'naive.CD8.T.cells', 'NK.cells', 'neutrophils', 'monocytes', 'myeloid.dendritic.cells', 'macrophages', 'fibroblasts', 'endothelial.cells']\n",
        "cells_brain = ['astrocytes','endothelial','oligodendrocyte','microglia', 'neurons','oligo-precursor']\n",
        "methods = [\n",
        "            [10, #Number of runs.\n",
        "             dtw_deconv, #Method.\n",
        "             cells_brain,\n",
        "             'pure', #Reference matrix name. Our sample mix data is RNA-seq TPM normalized so we used an appropriate matrix.\n",
        "            ]\n",
        "        ]"
      ],
      "execution_count": null,
      "outputs": []
    },
    {
      "cell_type": "markdown",
      "metadata": {
        "id": "iPrT3lvIdzYm"
      },
      "source": [
        "## Run deconvolution."
      ]
    },
    {
      "cell_type": "code",
      "metadata": {
        "id": "4t1Nxz0DdzYn",
        "colab": {
          "base_uri": "https://localhost:8080/",
          "height": 591
        },
        "outputId": "446caf55-13cf-4b61-ad23-e9bcff03d0e7"
      },
      "source": [
        "from IPython.display import FileLink\n",
        "\n",
        "pd.set_option('display.max_columns', 500)\n",
        "pd.set_option('display.width', 10000)\n",
        "run_deconv(mix, methods)"
      ],
      "execution_count": null,
      "outputs": [
        {
          "output_type": "stream",
          "text": [
            "Deconvolution, num_mixes: 16\n",
            "dtw_deconv, pure\n",
            " 90%"
          ],
          "name": "stdout"
        },
        {
          "output_type": "execute_result",
          "data": {
            "text/html": [
              "<div>\n",
              "<style scoped>\n",
              "    .dataframe tbody tr th:only-of-type {\n",
              "        vertical-align: middle;\n",
              "    }\n",
              "\n",
              "    .dataframe tbody tr th {\n",
              "        vertical-align: top;\n",
              "    }\n",
              "\n",
              "    .dataframe thead th {\n",
              "        text-align: right;\n",
              "    }\n",
              "</style>\n",
              "<table border=\"1\" class=\"dataframe\">\n",
              "  <thead>\n",
              "    <tr style=\"text-align: right;\">\n",
              "      <th></th>\n",
              "      <th>astrocytes</th>\n",
              "      <th>endothelial</th>\n",
              "      <th>oligodendrocyte</th>\n",
              "      <th>microglia</th>\n",
              "      <th>neurons</th>\n",
              "      <th>oligo-precursor</th>\n",
              "    </tr>\n",
              "  </thead>\n",
              "  <tbody>\n",
              "    <tr>\n",
              "      <th>0</th>\n",
              "      <td>0.000055</td>\n",
              "      <td>0.343743</td>\n",
              "      <td>0.000000</td>\n",
              "      <td>0.016401</td>\n",
              "      <td>0.015267</td>\n",
              "      <td>0.360145</td>\n",
              "    </tr>\n",
              "    <tr>\n",
              "      <th>1</th>\n",
              "      <td>0.000281</td>\n",
              "      <td>0.342476</td>\n",
              "      <td>0.003175</td>\n",
              "      <td>0.031443</td>\n",
              "      <td>0.038858</td>\n",
              "      <td>0.343515</td>\n",
              "    </tr>\n",
              "    <tr>\n",
              "      <th>2</th>\n",
              "      <td>0.015177</td>\n",
              "      <td>0.000146</td>\n",
              "      <td>0.062364</td>\n",
              "      <td>0.000052</td>\n",
              "      <td>0.719958</td>\n",
              "      <td>0.090205</td>\n",
              "    </tr>\n",
              "    <tr>\n",
              "      <th>3</th>\n",
              "      <td>0.002655</td>\n",
              "      <td>0.444776</td>\n",
              "      <td>0.015403</td>\n",
              "      <td>0.041123</td>\n",
              "      <td>0.110684</td>\n",
              "      <td>0.366308</td>\n",
              "    </tr>\n",
              "    <tr>\n",
              "      <th>4</th>\n",
              "      <td>0.016348</td>\n",
              "      <td>0.002395</td>\n",
              "      <td>0.070159</td>\n",
              "      <td>0.000301</td>\n",
              "      <td>0.774769</td>\n",
              "      <td>0.102889</td>\n",
              "    </tr>\n",
              "    <tr>\n",
              "      <th>5</th>\n",
              "      <td>0.005581</td>\n",
              "      <td>0.382097</td>\n",
              "      <td>0.032466</td>\n",
              "      <td>0.082038</td>\n",
              "      <td>0.238522</td>\n",
              "      <td>0.357484</td>\n",
              "    </tr>\n",
              "    <tr>\n",
              "      <th>6</th>\n",
              "      <td>0.018558</td>\n",
              "      <td>0.001337</td>\n",
              "      <td>0.072083</td>\n",
              "      <td>0.000333</td>\n",
              "      <td>0.884585</td>\n",
              "      <td>0.111977</td>\n",
              "    </tr>\n",
              "    <tr>\n",
              "      <th>7</th>\n",
              "      <td>0.004405</td>\n",
              "      <td>0.411838</td>\n",
              "      <td>0.018418</td>\n",
              "      <td>0.036300</td>\n",
              "      <td>0.198378</td>\n",
              "      <td>0.377027</td>\n",
              "    </tr>\n",
              "    <tr>\n",
              "      <th>8</th>\n",
              "      <td>0.000867</td>\n",
              "      <td>0.486296</td>\n",
              "      <td>0.007012</td>\n",
              "      <td>0.032368</td>\n",
              "      <td>0.056493</td>\n",
              "      <td>0.566950</td>\n",
              "    </tr>\n",
              "    <tr>\n",
              "      <th>9</th>\n",
              "      <td>0.015410</td>\n",
              "      <td>0.003997</td>\n",
              "      <td>0.065722</td>\n",
              "      <td>0.000145</td>\n",
              "      <td>0.725790</td>\n",
              "      <td>0.093118</td>\n",
              "    </tr>\n",
              "    <tr>\n",
              "      <th>10</th>\n",
              "      <td>0.000000</td>\n",
              "      <td>0.432082</td>\n",
              "      <td>0.004619</td>\n",
              "      <td>0.020839</td>\n",
              "      <td>0.009238</td>\n",
              "      <td>0.327273</td>\n",
              "    </tr>\n",
              "    <tr>\n",
              "      <th>11</th>\n",
              "      <td>0.002599</td>\n",
              "      <td>0.403293</td>\n",
              "      <td>0.013612</td>\n",
              "      <td>0.029485</td>\n",
              "      <td>0.114192</td>\n",
              "      <td>0.365167</td>\n",
              "    </tr>\n",
              "    <tr>\n",
              "      <th>12</th>\n",
              "      <td>0.004298</td>\n",
              "      <td>0.498776</td>\n",
              "      <td>0.032045</td>\n",
              "      <td>0.050266</td>\n",
              "      <td>0.203955</td>\n",
              "      <td>0.258012</td>\n",
              "    </tr>\n",
              "    <tr>\n",
              "      <th>13</th>\n",
              "      <td>0.004782</td>\n",
              "      <td>0.291155</td>\n",
              "      <td>0.023228</td>\n",
              "      <td>0.044559</td>\n",
              "      <td>0.237683</td>\n",
              "      <td>0.433965</td>\n",
              "    </tr>\n",
              "    <tr>\n",
              "      <th>14</th>\n",
              "      <td>0.009198</td>\n",
              "      <td>0.357053</td>\n",
              "      <td>0.048312</td>\n",
              "      <td>0.046950</td>\n",
              "      <td>0.405941</td>\n",
              "      <td>0.311794</td>\n",
              "    </tr>\n",
              "    <tr>\n",
              "      <th>15</th>\n",
              "      <td>0.001259</td>\n",
              "      <td>0.387451</td>\n",
              "      <td>0.012040</td>\n",
              "      <td>0.033907</td>\n",
              "      <td>0.094945</td>\n",
              "      <td>0.375066</td>\n",
              "    </tr>\n",
              "  </tbody>\n",
              "</table>\n",
              "</div>"
            ],
            "text/plain": [
              "    astrocytes  endothelial  oligodendrocyte  microglia   neurons  oligo-precursor\n",
              "0     0.000055     0.343743         0.000000   0.016401  0.015267         0.360145\n",
              "1     0.000281     0.342476         0.003175   0.031443  0.038858         0.343515\n",
              "2     0.015177     0.000146         0.062364   0.000052  0.719958         0.090205\n",
              "3     0.002655     0.444776         0.015403   0.041123  0.110684         0.366308\n",
              "4     0.016348     0.002395         0.070159   0.000301  0.774769         0.102889\n",
              "5     0.005581     0.382097         0.032466   0.082038  0.238522         0.357484\n",
              "6     0.018558     0.001337         0.072083   0.000333  0.884585         0.111977\n",
              "7     0.004405     0.411838         0.018418   0.036300  0.198378         0.377027\n",
              "8     0.000867     0.486296         0.007012   0.032368  0.056493         0.566950\n",
              "9     0.015410     0.003997         0.065722   0.000145  0.725790         0.093118\n",
              "10    0.000000     0.432082         0.004619   0.020839  0.009238         0.327273\n",
              "11    0.002599     0.403293         0.013612   0.029485  0.114192         0.365167\n",
              "12    0.004298     0.498776         0.032045   0.050266  0.203955         0.258012\n",
              "13    0.004782     0.291155         0.023228   0.044559  0.237683         0.433965\n",
              "14    0.009198     0.357053         0.048312   0.046950  0.405941         0.311794\n",
              "15    0.001259     0.387451         0.012040   0.033907  0.094945         0.375066"
            ]
          },
          "metadata": {
            "tags": []
          },
          "execution_count": 12
        }
      ]
    },
    {
      "cell_type": "code",
      "metadata": {
        "id": "qbJtiNSMdzYs",
        "colab": {
          "base_uri": "https://localhost:8080/",
          "height": 35
        },
        "outputId": "c8de4d3d-cb58-48ec-c96a-c41894a5454a"
      },
      "source": [
        "from IPython.display import FileLink, FileLinks\n",
        "\n",
        "FileLink('data/results.csv')"
      ],
      "execution_count": null,
      "outputs": [
        {
          "output_type": "execute_result",
          "data": {
            "text/html": [
              "<a href='data/results.csv' target='_blank'>data/results.csv</a><br>"
            ],
            "text/plain": [
              "/content/data/results.csv"
            ]
          },
          "metadata": {
            "tags": []
          },
          "execution_count": 8
        }
      ]
    },
    {
      "cell_type": "code",
      "metadata": {
        "id": "OxwfVByfdzYv"
      },
      "source": [
        ""
      ],
      "execution_count": null,
      "outputs": []
    }
  ]
}