{
 "cells": [
  {
   "cell_type": "code",
   "execution_count": 1,
   "metadata": {
    "colab": {
     "base_uri": "https://localhost:8080/"
    },
    "executionInfo": {
     "elapsed": 18214,
     "status": "ok",
     "timestamp": 1633256682374,
     "user": {
      "displayName": "D L",
      "photoUrl": "https://lh3.googleusercontent.com/a/default-user=s64",
      "userId": "01853311397766446781"
     },
     "user_tz": -180
    },
    "id": "6LRQIuZVkfeZ",
    "outputId": "ea50e97b-1a6b-4f6e-88e8-fab3461e37ba"
   },
   "outputs": [
    {
     "name": "stdout",
     "output_type": "stream",
     "text": [
      "\u001b[?25l\r",
      "\u001b[K     |▋                               | 10 kB 22.5 MB/s eta 0:00:01\r",
      "\u001b[K     |█▎                              | 20 kB 29.7 MB/s eta 0:00:01\r",
      "\u001b[K     |█▉                              | 30 kB 12.6 MB/s eta 0:00:01\r",
      "\u001b[K     |██▌                             | 40 kB 9.6 MB/s eta 0:00:01\r",
      "\u001b[K     |███▏                            | 51 kB 5.2 MB/s eta 0:00:01\r",
      "\u001b[K     |███▊                            | 61 kB 5.8 MB/s eta 0:00:01\r",
      "\u001b[K     |████▍                           | 71 kB 5.5 MB/s eta 0:00:01\r",
      "\u001b[K     |█████                           | 81 kB 6.2 MB/s eta 0:00:01\r",
      "\u001b[K     |█████▋                          | 92 kB 4.7 MB/s eta 0:00:01\r",
      "\u001b[K     |██████▎                         | 102 kB 5.1 MB/s eta 0:00:01\r",
      "\u001b[K     |██████▉                         | 112 kB 5.1 MB/s eta 0:00:01\r",
      "\u001b[K     |███████▌                        | 122 kB 5.1 MB/s eta 0:00:01\r",
      "\u001b[K     |████████                        | 133 kB 5.1 MB/s eta 0:00:01\r",
      "\u001b[K     |████████▊                       | 143 kB 5.1 MB/s eta 0:00:01\r",
      "\u001b[K     |█████████▍                      | 153 kB 5.1 MB/s eta 0:00:01\r",
      "\u001b[K     |██████████                      | 163 kB 5.1 MB/s eta 0:00:01\r",
      "\u001b[K     |██████████▋                     | 174 kB 5.1 MB/s eta 0:00:01\r",
      "\u001b[K     |███████████▎                    | 184 kB 5.1 MB/s eta 0:00:01\r",
      "\u001b[K     |███████████▉                    | 194 kB 5.1 MB/s eta 0:00:01\r",
      "\u001b[K     |████████████▌                   | 204 kB 5.1 MB/s eta 0:00:01\r",
      "\u001b[K     |█████████████                   | 215 kB 5.1 MB/s eta 0:00:01\r",
      "\u001b[K     |█████████████▊                  | 225 kB 5.1 MB/s eta 0:00:01\r",
      "\u001b[K     |██████████████▍                 | 235 kB 5.1 MB/s eta 0:00:01\r",
      "\u001b[K     |███████████████                 | 245 kB 5.1 MB/s eta 0:00:01\r",
      "\u001b[K     |███████████████▋                | 256 kB 5.1 MB/s eta 0:00:01\r",
      "\u001b[K     |████████████████▏               | 266 kB 5.1 MB/s eta 0:00:01\r",
      "\u001b[K     |████████████████▉               | 276 kB 5.1 MB/s eta 0:00:01\r",
      "\u001b[K     |█████████████████▌              | 286 kB 5.1 MB/s eta 0:00:01\r",
      "\u001b[K     |██████████████████              | 296 kB 5.1 MB/s eta 0:00:01\r",
      "\u001b[K     |██████████████████▊             | 307 kB 5.1 MB/s eta 0:00:01\r",
      "\u001b[K     |███████████████████▎            | 317 kB 5.1 MB/s eta 0:00:01\r",
      "\u001b[K     |████████████████████            | 327 kB 5.1 MB/s eta 0:00:01\r",
      "\u001b[K     |████████████████████▋           | 337 kB 5.1 MB/s eta 0:00:01\r",
      "\u001b[K     |█████████████████████▏          | 348 kB 5.1 MB/s eta 0:00:01\r",
      "\u001b[K     |█████████████████████▉          | 358 kB 5.1 MB/s eta 0:00:01\r",
      "\u001b[K     |██████████████████████▌         | 368 kB 5.1 MB/s eta 0:00:01\r",
      "\u001b[K     |███████████████████████         | 378 kB 5.1 MB/s eta 0:00:01\r",
      "\u001b[K     |███████████████████████▊        | 389 kB 5.1 MB/s eta 0:00:01\r",
      "\u001b[K     |████████████████████████▎       | 399 kB 5.1 MB/s eta 0:00:01\r",
      "\u001b[K     |█████████████████████████       | 409 kB 5.1 MB/s eta 0:00:01\r",
      "\u001b[K     |█████████████████████████▋      | 419 kB 5.1 MB/s eta 0:00:01\r",
      "\u001b[K     |██████████████████████████▏     | 430 kB 5.1 MB/s eta 0:00:01\r",
      "\u001b[K     |██████████████████████████▉     | 440 kB 5.1 MB/s eta 0:00:01\r",
      "\u001b[K     |███████████████████████████▍    | 450 kB 5.1 MB/s eta 0:00:01\r",
      "\u001b[K     |████████████████████████████    | 460 kB 5.1 MB/s eta 0:00:01\r",
      "\u001b[K     |████████████████████████████▊   | 471 kB 5.1 MB/s eta 0:00:01\r",
      "\u001b[K     |█████████████████████████████▎  | 481 kB 5.1 MB/s eta 0:00:01\r",
      "\u001b[K     |██████████████████████████████  | 491 kB 5.1 MB/s eta 0:00:01\r",
      "\u001b[K     |██████████████████████████████▋ | 501 kB 5.1 MB/s eta 0:00:01\r",
      "\u001b[K     |███████████████████████████████▏| 512 kB 5.1 MB/s eta 0:00:01\r",
      "\u001b[K     |███████████████████████████████▉| 522 kB 5.1 MB/s eta 0:00:01\r",
      "\u001b[K     |████████████████████████████████| 525 kB 5.1 MB/s \n",
      "\u001b[K     |████████████████████████████████| 199 kB 67.3 MB/s \n",
      "\u001b[K     |████████████████████████████████| 44 kB 2.3 MB/s \n",
      "\u001b[K     |████████████████████████████████| 47 kB 4.1 MB/s \n",
      "\u001b[K     |████████████████████████████████| 255 kB 65.9 MB/s \n",
      "\u001b[K     |████████████████████████████████| 5.8 MB 37.3 MB/s \n",
      "\u001b[K     |████████████████████████████████| 251 kB 48.0 MB/s \n",
      "\u001b[K     |████████████████████████████████| 127 kB 66.8 MB/s \n",
      "\u001b[?25h  Building wheel for bioservices (setup.py) ... \u001b[?25l\u001b[?25hdone\n",
      "  Building wheel for easydev (setup.py) ... \u001b[?25l\u001b[?25hdone\n",
      "  Building wheel for suds-jurko (setup.py) ... \u001b[?25l\u001b[?25hdone\n",
      "\u001b[31mERROR: pip's dependency resolver does not currently take into account all the packages that are installed. This behaviour is the source of the following dependency conflicts.\n",
      "datascience 0.10.6 requires folium==0.2.1, but you have folium 0.8.3 which is incompatible.\u001b[0m\n"
     ]
    }
   ],
   "source": [
    "!pip -q install gseapy"
   ]
  },
  {
   "cell_type": "code",
   "execution_count": 44,
   "metadata": {
    "executionInfo": {
     "elapsed": 251,
     "status": "ok",
     "timestamp": 1633260040562,
     "user": {
      "displayName": "D L",
      "photoUrl": "https://lh3.googleusercontent.com/a/default-user=s64",
      "userId": "01853311397766446781"
     },
     "user_tz": -180
    },
    "id": "BRwbLOK0VKEY"
   },
   "outputs": [],
   "source": [
    "import pandas as pd\n",
    "import gseapy as gp\n",
    "from scipy.optimize import nnls\n",
    "\n",
    "\n",
    "def rawEnrichmentAnalysis(expr):\n",
    "  # Reduce the expression dataset to contain only the required genes\n",
    "  genes = pd.read_csv('/content/drive/MyDrive/Colab Notebooks/genes.csv', index_col=0)\n",
    "  expr = expr.loc[expr.index.intersection(list(genes.x))]\n",
    "  if (len(expr.index) < 5000):\n",
    "    raise(\"ERROR: not enough genes\")\n",
    "\n",
    "  # Transform the expression to rank\n",
    "  for col in expr:\n",
    "    expr[col] = expr[col].rank()\n",
    "\n",
    "  # Run ssGSEA analysis for the ranked gene expression dataset\n",
    "  # txt, gct file input\n",
    "  gene_sets = {}\n",
    "\n",
    "  with open('/content/drive/MyDrive/Colab Notebooks/signatures.txt') as f:\n",
    "    for line in f:\n",
    "      key, val = line.split('\\t', 1)\n",
    "      val = val.split()\n",
    "      gene_sets[key] = val\n",
    "\n",
    "  print(f'Number of samples: {len(expr.columns)}, number of gene sets: {len(gene_sets)}')\n",
    "\n",
    "  ssg = gp.ssgsea(data=expr,\n",
    "                gene_sets=gene_sets, #gene_sets={'A':['gene1', 'gene2',...], 'B':['gene2', 'gene4',...],  ...}\n",
    "                #outdir='test/ssgsea_report',\n",
    "                sample_norm_method='custom', # choose 'custom' for your own rank list\n",
    "                permutation_num=0, # skip permutation procedure, because you don't need it\n",
    "                no_plot=True, # skip plotting, because you don't need these figures\n",
    "                processes=20,\n",
    "                seed=9,\n",
    "                scale=False)\n",
    "\n",
    "  scores = pd.DataFrame(ssg.resultsOnSamples)\n",
    "\n",
    "  # Rescale on gene sets.\n",
    "  scores = scores.subtract(scores.min(axis='columns'), axis='rows')\n",
    "\n",
    "  # Combine signatures for same cell types\n",
    "  scores['cell_type'] = scores.index.str.split('%', 1)\n",
    "  scores['cell_type'] = scores.cell_type.apply(lambda x: x[0])\n",
    "  scores = scores.groupby('cell_type').mean()\n",
    "  return scores"
   ]
  },
  {
   "cell_type": "code",
   "execution_count": 45,
   "metadata": {
    "colab": {
     "base_uri": "https://localhost:8080/"
    },
    "executionInfo": {
     "elapsed": 329839,
     "status": "ok",
     "timestamp": 1633260373382,
     "user": {
      "displayName": "D L",
      "photoUrl": "https://lh3.googleusercontent.com/a/default-user=s64",
      "userId": "01853311397766446781"
     },
     "user_tz": -180
    },
    "id": "utAdIrF2LyA2",
    "outputId": "0ea9823a-5ce0-42df-bf7a-edda20b1ae91"
   },
   "outputs": [
    {
     "name": "stdout",
     "output_type": "stream",
     "text": [
      "Number of samples: 104, number of gene sets: 489\n"
     ]
    }
   ],
   "source": [
    "expr = pd.read_csv('/content/drive/MyDrive/Colab Notebooks/sdy_expr420.csv', index_col=0)\n",
    "#expr = expr.iloc[:,:10]\n",
    "scores = rawEnrichmentAnalysis(expr)\n",
    "\n",
    "fv = pd.read_csv('/content/drive/MyDrive/Colab Notebooks/spill_fv.csv', index_col=0)\n",
    "fv = fv.reindex(scores.index)\n",
    "\n",
    "#Rescale on cell types.\n",
    "scores = scores.subtract(scores.min(axis='columns'), axis='rows')\n",
    "scores = scores/5000\n",
    "\n",
    "#Use fv formula tscores <- (tscores^fit.vals[A,2])/(fit.vals[A,3]*2).\n",
    "scores = scores.pow(fv.V2, axis='rows')\n",
    "scores = scores.divide(fv.V3*2, axis='rows')\n",
    "\n",
    "#scores = spillOver(transformed.scores,xCell.data$spill.array$K)\n",
    "K = pd.read_csv('/content/drive/MyDrive/Colab Notebooks/spill_K.csv', index_col=0)\n",
    "K = K.reindex(scores.index)\n",
    "K = K[K.index]\n",
    "alpha = 0.5\n",
    "K = K * alpha\n",
    "\n",
    "def spillOver(sample):\n",
    "  #Apply correction on samples: scores <- apply(transformedScores[rows, ], 2, function(x) pracma::lsqlincon(K[rows,rows], x, lb = 0)).\n",
    "  x, rnorm = nnls(K, sample)\n",
    "  return x\n",
    "\n",
    "scores = scores.apply(lambda x: spillOver(x), axis='rows')"
   ]
  }
 ],
 "metadata": {
  "colab": {
   "authorship_tag": "ABX9TyNXV/t+QXwFgD0vI3RJ/yop",
   "collapsed_sections": [],
   "mount_file_id": "11A4PvEhZsf4kVer8m6VwEhAbukaMQeJY",
   "name": "pxCell.ipynb",
   "provenance": []
  },
  "kernelspec": {
   "display_name": "Python 3",
   "language": "python",
   "name": "python3"
  },
  "language_info": {
   "codemirror_mode": {
    "name": "ipython",
    "version": 3
   },
   "file_extension": ".py",
   "mimetype": "text/x-python",
   "name": "python",
   "nbconvert_exporter": "python",
   "pygments_lexer": "ipython3",
   "version": "3.7.6"
  }
 },
 "nbformat": 4,
 "nbformat_minor": 1
}
